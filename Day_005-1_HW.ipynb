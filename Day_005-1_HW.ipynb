{
 "cells": [
  {
   "cell_type": "markdown",
   "metadata": {},
   "source": [
    "# [作業目標]\n",
    "- 利用範例的創建方式, 創建一組資料, 並練習如何取出最大值"
   ]
  },
  {
   "cell_type": "markdown",
   "metadata": {},
   "source": [
    "# [作業重點]\n",
    "- 練習創立 DataFrame (In[2])\n",
    "- 如何取出口數最多的國家 (In[3], Out[3])"
   ]
  },
  {
   "cell_type": "markdown",
   "metadata": {},
   "source": [
    "## 練習時間\n",
    "在小量的資料上，我們用眼睛就可以看得出來程式碼是否有跑出我們理想中的結果\n",
    "\n",
    "請嘗試想像一個你需要的資料結構 (裡面的值可以是隨機的)，然後用上述的方法把它變成 pandas DataFrame\n",
    "\n",
    "#### Ex: 想像一個 dataframe 有兩個欄位，一個是國家，一個是人口，求人口數最多的國家\n",
    "\n",
    "### Hints: [隨機產生數值](https://blog.csdn.net/christianashannon/article/details/78867204)"
   ]
  },
  {
   "cell_type": "code",
   "execution_count": 1,
   "metadata": {},
   "outputs": [],
   "source": [
    "import pandas as pd\n",
    "import numpy as np"
   ]
  },
  {
   "cell_type": "code",
   "execution_count": 2,
   "metadata": {},
   "outputs": [
    {
     "name": "stdout",
     "output_type": "stream",
     "text": [
      "     country  population\n",
      "0     Taiwan       46953\n",
      "1  Argentina        6341\n",
      "2  Australia       66348\n",
      "3     Bhutan       75382\n",
      "4      Japan       89615\n",
      "5     Korea        34473\n",
      "6     France       91084\n",
      "7    Denmark       40296\n",
      "8    Germany       65042\n",
      "9    Iceland       55172\n"
     ]
    }
   ],
   "source": [
    "country = ['Taiwan', 'Argentina', 'Australia', 'Bhutan', 'Japan',\n",
    " 'Korea ', 'France', 'Denmark', 'Germany', 'Iceland']\n",
    "pepole_counts = np.random.randint(100000, size=10)\n",
    "\n",
    "# 創立 DataFrame\n",
    "data = {'country': country,\n",
    "        'population': pepole_counts}\n",
    "visitors = pd.DataFrame(data)\n",
    "print(visitors)"
   ]
  },
  {
   "cell_type": "code",
   "execution_count": 3,
   "metadata": {},
   "outputs": [
    {
     "data": {
      "text/plain": [
       "country\n",
       "Argentina     6341\n",
       "Australia    66348\n",
       "Bhutan       75382\n",
       "Denmark      40296\n",
       "France       91084\n",
       "Germany      65042\n",
       "Iceland      55172\n",
       "Japan        89615\n",
       "Korea        34473\n",
       "Taiwan       46953\n",
       "Name: population, dtype: int32"
      ]
     },
     "execution_count": 3,
     "metadata": {},
     "output_type": "execute_result"
    }
   ],
   "source": [
    "most = visitors.groupby('country',as_index=True)['population'].mean()\n",
    "most"
   ]
  }
 ],
 "metadata": {
  "kernelspec": {
   "display_name": "Python 3",
   "language": "python",
   "name": "python3"
  },
  "language_info": {
   "codemirror_mode": {
    "name": "ipython",
    "version": 3
   },
   "file_extension": ".py",
   "mimetype": "text/x-python",
   "name": "python",
   "nbconvert_exporter": "python",
   "pygments_lexer": "ipython3",
   "version": "3.7.6"
  }
 },
 "nbformat": 4,
 "nbformat_minor": 2
}
